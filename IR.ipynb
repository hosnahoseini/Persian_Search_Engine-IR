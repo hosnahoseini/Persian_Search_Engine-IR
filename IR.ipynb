{
 "cells": [
  {
   "cell_type": "markdown",
   "id": "960ab510-6a7b-48d6-bc9f-141c3bf8ed37",
   "metadata": {},
   "source": [
    "# Imports"
   ]
  },
  {
   "cell_type": "code",
   "execution_count": 24,
   "id": "58cf191b-ff48-48c3-ae8a-7413e3f01eea",
   "metadata": {},
   "outputs": [],
   "source": [
    "import os\n",
    "import json\n",
    "import re\n",
    "import math\n",
    "import numpy as np\n",
    "import matplotlib.pyplot as plt\n",
    "from string import punctuation\n",
    "from hazm import Normalizer, word_tokenize, stopwords_list, Stemmer\n",
    "import copy\n",
    "import collections"
   ]
  },
  {
   "cell_type": "markdown",
   "id": "33b6fe31-bea7-468b-b2ee-86188d8da280",
   "metadata": {},
   "source": [
    "# Read data"
   ]
  },
  {
   "cell_type": "code",
   "execution_count": 2,
   "id": "f774d40b-f437-44f2-97a4-07af4191e476",
   "metadata": {},
   "outputs": [],
   "source": [
    "with open(\"IR_data_news_12k.json\") as f:\n",
    "    docs = json.load(f)"
   ]
  },
  {
   "cell_type": "code",
   "execution_count": 3,
   "id": "167cb434-89e0-47e3-bc76-2c5b801b9016",
   "metadata": {
    "tags": []
   },
   "outputs": [
    {
     "data": {
      "text/plain": [
       "{'title': 'اعلام زمان قرعه کشی جام باشگاه های فوتسال آسیا',\n",
       " 'content': '\\nبه گزارش خبرگزاری فارس، کنفدراسیون فوتبال آسیا (AFC) در نامه ای رسمی به فدراسیون فوتبال ایران و باشگاه گیتی پسند زمان\\xa0 قرعه کشی جام باشگاه های فوتسال آسیا را رسماً اعلام کرد. بر این اساس 25 فروردین ماه 1401 مراسم قرعه کشی جام باشگاه های فوتسال آسیا در مالزی برگزار می شود. باشگاه گیتی پسند بعنوان قهرمان فوتسال ایران در سال 1400 به این مسابقات راه پیدا کرده است. پیش از این گیتی پسند تجربه 3 دوره حضور در جام باشگاه های فوتسال آسیا را داشته که هر سه دوره به فینال مسابقات راه پیدا کرده و یک عنوان قهرمانی و دو مقام دومی بدست آورده است. انتهای پیام/\\n\\n\\n',\n",
       " 'tags': ['اعلام زمان',\n",
       "  'قرعه\\u200cکشی',\n",
       "  'قرعه\\u200cکشی جام',\n",
       "  'قرعه\\u200cکشی جام باشگاه\\u200cهای فوتسال',\n",
       "  'ای اف سی',\n",
       "  'گیتی پسند'],\n",
       " 'date': '3/15/2022 5:59:27 PM',\n",
       " 'url': 'https://www.farsnews.ir/news/14001224001005/اعلام-زمان-قرعه-کشی-جام-باشگاه-های-فوتسال-آسیا',\n",
       " 'category': 'sports'}"
      ]
     },
     "execution_count": 3,
     "metadata": {},
     "output_type": "execute_result"
    }
   ],
   "source": [
    "docs['0']"
   ]
  },
  {
   "cell_type": "markdown",
   "id": "d6c977b3-737e-44d3-ab18-f79725069729",
   "metadata": {},
   "source": [
    "# Phase 1"
   ]
  },
  {
   "cell_type": "markdown",
   "id": "b3cf039e-caec-4f9a-a637-5ddbb73bfde2",
   "metadata": {},
   "source": [
    "## Preprocess "
   ]
  },
  {
   "cell_type": "code",
   "execution_count": 4,
   "id": "068737dc-57ec-4509-a12d-92ad402153aa",
   "metadata": {},
   "outputs": [],
   "source": [
    "def preprocess_text(content, stemming=True, stop_words=True):\n",
    "    \"\"\" preprocess text \"\"\"\n",
    "    # Removing punctuations\n",
    "    content = re.sub(f'[{punctuation}؟،٪×÷»«]+', '', content)\n",
    "\n",
    "    # Normalizing\n",
    "    content = Normalizer().normalize(content)\n",
    "\n",
    "    # Stemming\n",
    "    if (stemming):\n",
    "        content = Stemmer().stem(content)\n",
    "\n",
    "    # Tokenizing\n",
    "    content = word_tokenize(content)\n",
    "\n",
    "    # Remove stopwords\n",
    "    if (stop_words):\n",
    "        content = [w for w in content if w not in stopwords_list()]\n",
    "    \n",
    "    return content"
   ]
  },
  {
   "cell_type": "code",
   "execution_count": 5,
   "id": "f0a615fc-17d7-4ddc-ac30-2f7a1cb1ec50",
   "metadata": {
    "tags": []
   },
   "outputs": [],
   "source": [
    "def preprocess(input_docs, stemming=True, stop_words=True):\n",
    "    \"\"\" preprocess all docs \"\"\"\n",
    "    \n",
    "    docs = copy.deepcopy(input_docs)\n",
    "    for doc_id in docs:            \n",
    "        content = docs[doc_id]['content']\n",
    "        docs[doc_id]['content'] = preprocess_text(content, stemming, stop_words)\n",
    "        if (int(doc_id) % 1000 == 0):\n",
    "            print(doc_id)\n",
    "    return docs"
   ]
  },
  {
   "cell_type": "code",
   "execution_count": null,
   "id": "34a44d5e-204e-4d2e-84c0-2e4b2702d739",
   "metadata": {},
   "outputs": [
    {
     "name": "stdout",
     "output_type": "stream",
     "text": [
      "0\n",
      "1000\n",
      "2000\n",
      "3000\n",
      "4000\n",
      "5000\n",
      "6000\n",
      "7000\n",
      "8000\n",
      "9000\n",
      "10000\n",
      "11000\n",
      "12000\n"
     ]
    }
   ],
   "source": [
    "# run first time\n",
    "pre_processed_docs = preprocess(docs)\n",
    "with open(\"IR_data_news_12k_preprocessed.json\", 'w') as f:\n",
    "     json.dump(pre_processed_docs, f)"
   ]
  },
  {
   "cell_type": "code",
   "execution_count": 6,
   "id": "b20bc6b8-a4a9-4f4c-9e7c-edc6eb719387",
   "metadata": {},
   "outputs": [],
   "source": [
    "# run second time\n",
    "with open(\"IR_data_news_12k_preprocessed.json\", 'r') as f:\n",
    "    pre_processed_docs = json.load(f)"
   ]
  },
  {
   "cell_type": "markdown",
   "id": "cd860546-7e65-44cc-a1f4-fe2bd824f38f",
   "metadata": {},
   "source": [
    "## Preprocess Tests"
   ]
  },
  {
   "cell_type": "code",
   "execution_count": 8,
   "id": "f90929fe-ce5f-47fd-b826-4bb890677ada",
   "metadata": {},
   "outputs": [],
   "source": [
    "content = 'به گزارش خبرگزاری فارس، کنفدراسیون فوتبال آسیا (AFC) در نامه ای رسمی به فدراسیون فوتبال ایران و باشگاه گیتی پسند زمان  قرعه کشی جام باشگاه های فوتسال آسیا را رسماً اعلام کرد.'"
   ]
  },
  {
   "cell_type": "code",
   "execution_count": 10,
   "id": "c6d1d175-4f71-495d-ae2a-f5e0540bd029",
   "metadata": {},
   "outputs": [
    {
     "data": {
      "text/plain": [
       "'به گزارش خبرگزاری فارس کنفدراسیون فوتبال آسیا AFC در نامه ای رسمی به فدراسیون فوتبال ایران و باشگاه گیتی پسند زمان  قرعه کشی جام باشگاه های فوتسال آسیا را رسماً اعلام کرد'"
      ]
     },
     "execution_count": 10,
     "metadata": {},
     "output_type": "execute_result"
    }
   ],
   "source": [
    "removed_punc = re.sub(f'[{punctuation}؟،٪×÷»«]+', '', content)\n",
    "removed_punc"
   ]
  },
  {
   "cell_type": "code",
   "execution_count": 13,
   "id": "74bff66f-fd9d-47cc-9a02-17d521e4b368",
   "metadata": {},
   "outputs": [
    {
     "data": {
      "text/plain": [
       "'به گزارش خبرگزاری فارس کنفدراسیون فوتبال آسیا AFC در نامه\\u200cای رسمی به فدراسیون فوتبال ایران و باشگاه گیتی پسند زمان قرعه کشی جام باشگاه\\u200cهای فوتسال آسیا را رسما اعلام کرد'"
      ]
     },
     "execution_count": 13,
     "metadata": {},
     "output_type": "execute_result"
    }
   ],
   "source": [
    "normalized = Normalizer().normalize(removed_punc)\n",
    "normalized"
   ]
  },
  {
   "cell_type": "code",
   "execution_count": 15,
   "id": "2a58d20d-7dfe-4830-a515-ebfb28c29d3c",
   "metadata": {},
   "outputs": [
    {
     "data": {
      "text/plain": [
       "'به گزارش خبرگزاری فارس کنفدراسیون فوتبال آسیا AFC در نامه\\u200cای رسمی به فدراسیون فوتبال ایران و باشگاه گیتی پسند زمان قرعه کشی جام باشگاه\\u200cهای فوتسال آسیا را رسما اعلام کرد'"
      ]
     },
     "execution_count": 15,
     "metadata": {},
     "output_type": "execute_result"
    }
   ],
   "source": [
    "stemmed = Stemmer().stem(normalized)\n",
    "stemmed"
   ]
  },
  {
   "cell_type": "code",
   "execution_count": 107,
   "id": "458a8f8e-90ed-47e8-9f87-62f2436515f9",
   "metadata": {},
   "outputs": [
    {
     "name": "stdout",
     "output_type": "stream",
     "text": [
      "['به', 'گزارش', 'خبرگزاری', 'فارس', 'کنفدراسیون', 'فوتبال', 'آسیا', 'AFC', 'در', 'نامه\\u200cای', 'رسمی', 'به', 'فدراسیون', 'فوتبال', 'ایران', 'و', 'باشگاه', 'گیتی', 'پسند', 'زمان', 'قرعه', 'کشی', 'جام', 'باشگاه\\u200cهای', 'فوتسال', 'آسیا', 'را', 'رسما', 'اعلام', 'کرد']\n"
     ]
    }
   ],
   "source": [
    "tokenized = word_tokenize(stemmed)\n",
    "print(tokenized)"
   ]
  },
  {
   "cell_type": "code",
   "execution_count": 110,
   "id": "827f3ab8-f3c9-42ee-9ea3-0dd135773abc",
   "metadata": {},
   "outputs": [
    {
     "name": "stdout",
     "output_type": "stream",
     "text": [
      "['گزارش', 'خبرگزاری', 'فارس', 'کنفدراسیون', 'فوتبال', 'آسیا', 'AFC', 'نامه\\u200cای', 'رسمی', 'فدراسیون', 'فوتبال', 'ایران', 'باشگاه', 'گیتی', 'پسند', 'زمان', 'قرعه', 'کشی', 'جام', 'باشگاه\\u200cهای', 'فوتسال', 'آسیا', 'رسما', 'اعلام']\n"
     ]
    }
   ],
   "source": [
    "stop_words_removed = [w for w in tokenized if w not in stopwords_list()]\n",
    "print(stop_words_removed)"
   ]
  },
  {
   "cell_type": "markdown",
   "id": "51bbdea2-1cc7-4be9-b0af-e0ec4a2cc390",
   "metadata": {},
   "source": [
    "## Stemming Problems"
   ]
  },
  {
   "cell_type": "code",
   "execution_count": 22,
   "id": "400cdc03-9c5a-48bf-974d-1969c212e12a",
   "metadata": {},
   "outputs": [
    {
     "data": {
      "text/plain": [
       "'ایر'"
      ]
     },
     "execution_count": 22,
     "metadata": {},
     "output_type": "execute_result"
    }
   ],
   "source": [
    "Stemmer().stem('ایران')"
   ]
  },
  {
   "cell_type": "code",
   "execution_count": 21,
   "id": "eafac09e-783b-4b59-8aec-3b6d0f11c78e",
   "metadata": {},
   "outputs": [
    {
     "data": {
      "text/plain": [
       "'مبارز'"
      ]
     },
     "execution_count": 21,
     "metadata": {},
     "output_type": "execute_result"
    }
   ],
   "source": [
    "Stemmer().stem('مبارزات')"
   ]
  },
  {
   "cell_type": "code",
   "execution_count": 20,
   "id": "9f660eaf-0efd-4466-bd8f-fa501803441d",
   "metadata": {},
   "outputs": [
    {
     "data": {
      "text/plain": [
       "'بهره بردار'"
      ]
     },
     "execution_count": 20,
     "metadata": {},
     "output_type": "execute_result"
    }
   ],
   "source": [
    "Stemmer().stem('بهره برداری')"
   ]
  },
  {
   "cell_type": "markdown",
   "id": "88f03184-ccaf-41be-a716-8dd3befe32f6",
   "metadata": {},
   "source": [
    "# Indexing"
   ]
  },
  {
   "cell_type": "code",
   "execution_count": 9,
   "id": "83653303-10f2-4403-864d-fcf3957080a0",
   "metadata": {
    "collapsed": true,
    "jupyter": {
     "outputs_hidden": true
    },
    "tags": []
   },
   "outputs": [
    {
     "data": {
      "text/plain": [
       "'\\nindex = {term:\\n             total_freq:\\n             docs: {\\n                   doc_id_1: {\\n                       count_of_word:\\n                       positions: {}\\n                       }\\n                   ,\\n                   doc_id_2: {\\n                       count_of_word:\\n                       positions: {}\\n                       }\\n                   ,\\n                   . . .\\n                   }\\n        }\\n'"
      ]
     },
     "execution_count": 9,
     "metadata": {},
     "output_type": "execute_result"
    }
   ],
   "source": [
    "# indexing formt\n",
    "\"\"\"\n",
    "index = {term:\n",
    "             total_freq:\n",
    "             docs: {\n",
    "                   doc_id_1: {\n",
    "                       count_of_word:\n",
    "                       positions: {}\n",
    "                       }\n",
    "                   ,\n",
    "                   doc_id_2: {\n",
    "                       count_of_word:\n",
    "                       positions: {}\n",
    "                       }\n",
    "                   ,\n",
    "                   . . .\n",
    "                   }\n",
    "        }\n",
    "\"\"\""
   ]
  },
  {
   "cell_type": "code",
   "execution_count": 7,
   "id": "87fb1688-01b0-4b49-834a-ef9e98f46a4a",
   "metadata": {
    "tags": []
   },
   "outputs": [],
   "source": [
    "def create_index_dict(docs):\n",
    "    \n",
    "    index = {}\n",
    "    for doc_id in docs:    \n",
    "        for pos, token in enumerate(docs[doc_id]['content']):\n",
    "            if token not in index:\n",
    "                index[token] = {\n",
    "                'total_freq': 1,\n",
    "                 'docs': {\n",
    "                       doc_id: {\n",
    "                           'count_of_word': 1,\n",
    "                           'positions': [pos]\n",
    "                           }\n",
    "                    }\n",
    "                }\n",
    "            else:\n",
    "                index[token]['total_freq'] += 1  \n",
    "                if doc_id not in index[token]['docs']:\n",
    "                    index[token]['docs'][doc_id] = {}\n",
    "                    index[token]['docs'][doc_id]['count_of_word'] = 1\n",
    "                    index[token]['docs'][doc_id]['positions'] = [pos]\n",
    "                else:\n",
    "                    index[token]['docs'][doc_id]['count_of_word'] += 1 \n",
    "                    index[token]['docs'][doc_id]['positions'].append(pos)   \n",
    "    \n",
    "    # create champion lists             \n",
    "    for word in index:\n",
    "        champ_list = sorted(index[word]['docs'], key=lambda x: index[word]['docs'][x]['count_of_word'], reverse=True)\n",
    "        index[word]['champions'] = champ_list[:len(champ_list) // 5]\n",
    "    return index"
   ]
  },
  {
   "cell_type": "code",
   "execution_count": 137,
   "id": "685ce621-13ba-4c8e-be48-e724e0a53a0d",
   "metadata": {
    "tags": []
   },
   "outputs": [],
   "source": [
    "# run first time\n",
    "index = create_index_dict(pre_processed_docs)\n",
    "with open(\"index.json\", 'w') as f:\n",
    "    docs = json.dump(index, f)"
   ]
  },
  {
   "cell_type": "code",
   "execution_count": 8,
   "id": "e8ecade9-5c83-4063-a2d9-d1f6d7e57573",
   "metadata": {},
   "outputs": [],
   "source": [
    "# run second time\n",
    "with open(\"index.json\", 'r') as f:\n",
    "    index = json.load(f)"
   ]
  },
  {
   "cell_type": "markdown",
   "id": "a38489bd-75d2-414d-a77c-af681964e97e",
   "metadata": {},
   "source": [
    "# Query processing"
   ]
  },
  {
   "cell_type": "code",
   "execution_count": 10,
   "id": "390eb1fb-6d48-4565-a266-39869fc1994d",
   "metadata": {},
   "outputs": [],
   "source": [
    "def simple_process(docs, tokens):\n",
    "    docs_score = {}\n",
    "    for token in tokens:\n",
    "        if token in index:\n",
    "            for doc_id in index[token]['docs']:\n",
    "                    if doc_id not in docs_score.keys():\n",
    "                        docs_score[doc_id] = 1\n",
    "                    else:\n",
    "                        docs_score[doc_id] += 1\n",
    "   \n",
    "    docs_score = sorted(docs_score.items(), key=lambda doc_score: doc_score[1], reverse=True)\n",
    "    result = [x for x,_ in docs_score]\n",
    "    return result"
   ]
  },
  {
   "cell_type": "code",
   "execution_count": 11,
   "id": "ea098103-af8d-459f-98fb-f702433ae5b1",
   "metadata": {},
   "outputs": [],
   "source": [
    "def exceptions_process(docs, tokens):\n",
    "    removal_docs = []\n",
    "    for token in tokens:\n",
    "        rmv_docIds = index[token]['docs'].keys()\n",
    "        for doc_id in rmv_docIds:  \n",
    "             if removal_docs.count(doc_id) == 0:\n",
    "                    removal_docs.append(doc_id)\n",
    "\n",
    "    result = []            \n",
    "    for doc_id in docs:\n",
    "        if removal_docs.count(doc_id) == 0:\n",
    "            result.append(doc_id)\n",
    "\n",
    "    return result"
   ]
  },
  {
   "cell_type": "code",
   "execution_count": 12,
   "id": "da9e47b7-4188-480d-93cb-9bee6bc0edc4",
   "metadata": {},
   "outputs": [],
   "source": [
    "def doc_contain_phrase(docId, phrase):\n",
    "   # we need just a sequence of numbers in positions to find a doc contain special phrase\",\n",
    "    tokens_lst = phrase.split()\n",
    "    positions = []\n",
    "    for token in tokens_lst:\n",
    "        positions.append(list(index[token]['docs'][docId]['positions']))\n",
    "\n",
    "    for i in range (len(positions[0])):\n",
    "        flag = True\n",
    "        index_of_first_token = positions[0][i]\n",
    "        for j in range (len(positions)):\n",
    "            if positions[j].count(index_of_first_token + j) == 0:\n",
    "                flag = False\n",
    "        if flag :\n",
    "            return True\n",
    "    return flag"
   ]
  },
  {
   "cell_type": "code",
   "execution_count": 13,
   "id": "fe70b4e0-9979-4c70-b1c6-6485943ded81",
   "metadata": {},
   "outputs": [],
   "source": [
    "def phrasal_process(docs, phrases):\n",
    "    posting_lists = []\n",
    "    result = []\n",
    "    for phrase in phrases:\n",
    "        words = phrase.split()\n",
    "        for word in words:\n",
    "            if word in index:\n",
    "                posting_lists.append(list(index[word]['docs'].keys()))\n",
    "    \n",
    "        intersection_doc_ids = set.intersection(*map(set, posting_lists))\n",
    "\n",
    "        for docId in intersection_doc_ids:\n",
    "            if doc_contain_phrase(docId, phrase):     \n",
    "                result.append(docId)\n",
    "    return result"
   ]
  },
  {
   "cell_type": "code",
   "execution_count": 28,
   "id": "52b0f11d-5bfb-4a42-ad1b-895b6f7172bc",
   "metadata": {},
   "outputs": [],
   "source": [
    "def process_query(query):\n",
    "    \n",
    "    exception_tokens = re.findall(r'\\!\\s(\\w+)', query)\n",
    "    phrasal_tokens = re.findall(r'\"([^\"]*)\"', query)\n",
    "    raw_tokens = re.sub(r'\\!\\s\\w+', '', query)\n",
    "    raw_tokens = re.sub(r'\"[^\"]*\"', '', raw_tokens)\n",
    "    \n",
    "    simple_tokens = preprocess_text(raw_tokens)\n",
    "    print(exception_tokens, phrasal_tokens, raw_tokens)\n",
    "    result = None\n",
    "    # sorted documents by relevance after processing simple tokens\\n\",\n",
    "    if len(simple_tokens) > 0:\n",
    "        result = simple_process(pre_processed_docs, simple_tokens)\n",
    "        \n",
    "    # removing the items that included exception tokens, kind of post filter\n",
    "    if len(exception_tokens) > 0:\n",
    "        removed_result = exceptions_process(result, exception_tokens)\n",
    "        if len(removed_result) > 0 and len(result) > 0:\n",
    "            result = [x for x in result if x in removed_result]  \n",
    "            \n",
    "    # Intersect of results with those containing phrasal queries\\n\",\n",
    "    if len(phrasal_tokens) > 0:\n",
    "        phrasal_result = phrasal_process(pre_processed_docs, phrasal_tokens)\n",
    "        \n",
    "        if result is None or len(result) == 0:\n",
    "            return phrasal_result\n",
    "        result = [x for x in result if x in phrasal_result]  \n",
    "\n",
    "    return result"
   ]
  },
  {
   "cell_type": "code",
   "execution_count": 15,
   "id": "01cb8c38-8490-40da-90ea-7f36c0d4ec61",
   "metadata": {},
   "outputs": [],
   "source": [
    "def query_print(query, content=False, max_cnt=5):\n",
    "    results = process_query(query)[:max_cnt]\n",
    "    if len(results) == 0:\n",
    "        print(\"نتیجه ای یافت نشد\")\n",
    "    for rank, doc in enumerate(results):\n",
    "        if doc == None:\n",
    "            continue\n",
    "        print(50*'=')\n",
    "        print(f'Rank: {rank + 1}, docID: {doc}')\n",
    "        print(f'Title: {docs[f\"{doc}\"][\"title\"]}')\n",
    "        print(f'URL: {docs[f\"{doc}\"][\"url\"]}')\n",
    "        if content:\n",
    "            print(f'{docs[f\"{doc}\"][\"content\"]}')"
   ]
  },
  {
   "cell_type": "code",
   "execution_count": 16,
   "id": "5cf0e95c-5320-4b80-812f-469a2112d014",
   "metadata": {
    "tags": []
   },
   "outputs": [
    {
     "name": "stdout",
     "output_type": "stream",
     "text": [
      "==================================================\n",
      "Rank: 1, docID: 6929\n",
      "Title: توضیحات یک منبع آگاه درباره وقفه مذاکرات وین\n",
      "URL: https://www.farsnews.ir/news/14001222000450/توضیحات-یک-منبع-آگاه-درباره-وقفه-مذاکرات-وین\n",
      "==================================================\n",
      "Rank: 2, docID: 6963\n",
      "Title: سیاست‌گذاری‌های ارزی دهه 90 همواره در جهت تضعیف ارزش پول ملی حرکت کرده‌ است\n",
      "URL: https://www.farsnews.ir/news/14001221000788/سیاست‌گذاری‌های-ارزی-دهه-90-همواره-در-جهت-تضعیف-ارزش-پول-ملی-حرکت\n",
      "==================================================\n",
      "Rank: 3, docID: 6996\n",
      "Title: نشر خبر توقیف دو نفتکش ایرانی در این مقطع از مذاکرات، ترفند آمریکا برای امتیازگیری است\n",
      "URL: https://www.farsnews.ir/news/14001220000571/نشر-خبر-توقیف-دو-نفتکش-ایرانی-در-این-مقطع-از-مذاکرات-ترفند-آمریکا-برای\n",
      "==================================================\n",
      "Rank: 4, docID: 7049\n",
      "Title: سخنگوی سپاه: پرتاب ماهواره «نور ۲» نماد پیروزی ملت ایران در جنگ تحریمی دشمنان است\n",
      "URL: https://www.farsnews.ir/news/14001218000727/سخنگوی-سپاه-پرتاب-ماهواره-نور-۲-نماد-پیروزی-ملت-ایران-در-جنگ-تحریمی\n",
      "==================================================\n",
      "Rank: 5, docID: 7059\n",
      "Title: مذاکره‌کنندگان مراقب باشند تجربه تلخ برجام و بدعهدی‌های غرب تکرار نشود\n",
      "URL: https://www.farsnews.ir/news/14001218000420/مذاکره‌کنندگان-مراقب-باشند-تجربه-تلخ-برجام-و-بدعهدی‌های-غرب-تکرار-نشود\n"
     ]
    }
   ],
   "source": [
    "query_print('تحریم‌های آمریکا علیه ایران')"
   ]
  },
  {
   "cell_type": "code",
   "execution_count": 17,
   "id": "e3e72445-f606-403a-be46-a092f90a1ae5",
   "metadata": {
    "tags": []
   },
   "outputs": [
    {
     "name": "stdout",
     "output_type": "stream",
     "text": [
      "==================================================\n",
      "Rank: 1, docID: 7615\n",
      "Title: یک مأموریت‌ فتنه 88 کاهش قدرت چانه‌زنی مسؤولان در مذاکرات بود\n",
      "URL: https://www.farsnews.ir/news/14001129000373/یک-مأموریت‌-فتنه-کاهش-قدرت-چانه‌زنی-مسؤولان-در-مذاکرات-بود\n",
      "==================================================\n",
      "Rank: 2, docID: 7627\n",
      "Title: سران فتنه با ظلم‌شان در مشکلات اقتصادی امروز مردم شریک‌اند\n",
      "URL: https://www.farsnews.ir/news/14001128000542/سران-فتنه-با-ظلم‌شان-در-مشکلات-اقتصادی-امروز-مردم-شریک‌اند\n",
      "==================================================\n",
      "Rank: 3, docID: 9772\n",
      "Title: غربی‌ها حقوق زنان را دستاویز مداخله در امور داخلی کشورها کرده‌اند/ تحقیر زن در غرب\n",
      "URL: https://www.farsnews.ir/news/14000924000307/غربی‌ها-حقوق-زنان-را-دستاویز-مداخله-در-امور-داخلی-کشورها-کرده‌اند-\n",
      "==================================================\n",
      "Rank: 4, docID: 9994\n",
      "Title: امام جمعه موقت تهران: مذاکره کنونی با گذشته که نقد دادند و نسیه گرفتند، تفاوت دارد\n",
      "URL: https://www.farsnews.ir/news/14000919000137/امام-جمعه-موقت-تهران-مذاکره-کنونی-با-گذشته-که-نقد-دادند-و-نسیه-گرفتند\n",
      "==================================================\n",
      "Rank: 5, docID: 12154\n",
      "Title: جمع‌بندی گزارش کمیسیون اصل 90 درباره قطعی برق نهایی شد/ کاهش میزان مشارکت بخش خصوصی در تولید و توزیع برق\n",
      "URL: https://www.farsnews.ir/news/14000725000758/جمع‌بندی-گزارش-کمیسیون-اصل-90-درباره-قطعی-برق-نهایی-شد-کاهش-میزان\n"
     ]
    }
   ],
   "source": [
    "query_print('تحریم‌های آمریکا ! ایران')"
   ]
  },
  {
   "cell_type": "code",
   "execution_count": 18,
   "id": "ce5fd799-1cdd-43ad-b5f4-a13993245ba4",
   "metadata": {},
   "outputs": [
    {
     "name": "stdout",
     "output_type": "stream",
     "text": [
      "نتیجه ای یافت نشد\n"
     ]
    }
   ],
   "source": [
    "query_print('\"تحریم هسته‌ای\" آمریکا ! ایران')"
   ]
  },
  {
   "cell_type": "code",
   "execution_count": 19,
   "id": "ebfb62e8-822f-417d-b820-8f8145b15006",
   "metadata": {},
   "outputs": [
    {
     "name": "stdout",
     "output_type": "stream",
     "text": [
      "نتیجه ای یافت نشد\n"
     ]
    }
   ],
   "source": [
    "query_print('اورشلیم ! صهیونیست')"
   ]
  },
  {
   "cell_type": "code",
   "execution_count": 31,
   "id": "efb3a81c-555f-44e9-b9ec-8ae3d953e788",
   "metadata": {},
   "outputs": [
    {
     "name": "stdout",
     "output_type": "stream",
     "text": [
      "['پرسپولیس'] [] لیگ برتر \n",
      "==================================================\n",
      "Rank: 1, docID: 1\n",
      "Title: سجادی :حضور تماشاگران در  لیگ برتر فوتبال تابع نظر فدراسیون  و سازمان لیگ است\n",
      "URL: https://www.farsnews.ir/news/14001224000982/سجادی-حضور-تماشاگران-در-لیگ-برتر-فوتبال-تابع-نظر-فدراسیون-و-سازمان\n",
      "==================================================\n",
      "Rank: 2, docID: 4\n",
      "Title: لیگ‌برتر بسکتبال|‌ نخستین پیروزی شهرداری گرگان و ذوب‌آهن در پلی‌آف\n",
      "URL: https://www.farsnews.ir/news/14001224000947/لیگ‌برتر-بسکتبال|‌-نخستین-پیروزی-شهرداری-گرگان-و-ذوب‌آهن-در-پلی‌آف\n",
      "==================================================\n",
      "Rank: 3, docID: 8\n",
      "Title: مدیر بی‌دستاورد، رئیس شد/ روزگار تلخ‌تر از تلخ برای والیبال ارومیه؟\n",
      "URL: https://www.farsnews.ir/news/14001224000811/مدیر-بی‌دستاورد-رئیس-شد-روزگار-تلخ‌تر-از-تلخ-برای-والیبال-ارومیه\n",
      "==================================================\n",
      "Rank: 4, docID: 23\n",
      "Title: مدافع پیکان جراحی کرد + عکس\n",
      "URL: https://www.farsnews.ir/news/14001224000352/مدافع-پیکان-جراحی-کرد--عکس\n",
      "==================================================\n",
      "Rank: 5, docID: 29\n",
      "Title: مدیرعامل آلومینیوم: مرفاوی می‌داند هیچ باشگاهی با یک نفر صحبت نمی‌کند/استقلالی‌ها لیگ را گرفته‌اند\n",
      "URL: https://www.farsnews.ir/news/14001224000282/مدیرعامل-آلومینیوم-مرفاوی-می‌داند-هیچ-باشگاهی-با-یک-نفر-صحبت-نمی‌کند\n"
     ]
    }
   ],
   "source": [
    "query_print('لیگ برتر ! پرسپولیس')"
   ]
  },
  {
   "cell_type": "markdown",
   "id": "e70d4db2-dfb5-415a-a87e-bfd36be4ad79",
   "metadata": {},
   "source": [
    "# Zipf law"
   ]
  },
  {
   "cell_type": "markdown",
   "id": "bdeeb9f3-9aa1-4c92-95fd-e05cc3cef65c",
   "metadata": {},
   "source": [
    "$$cf_i = cf_1 / i$$"
   ]
  },
  {
   "cell_type": "code",
   "execution_count": 158,
   "id": "acebb77b-e655-44fa-8dc7-81598e1bab6c",
   "metadata": {},
   "outputs": [],
   "source": [
    "def token_incidence(docs):\n",
    "    dictionary = dict()\n",
    "    for body in docs.values():\n",
    "        for token in body['content']:\n",
    "            if dictionary.get(token):\n",
    "                dictionary[token] += 1\n",
    "            else: \n",
    "                dictionary[token] = 1\n",
    "    \n",
    "    return dictionary"
   ]
  },
  {
   "cell_type": "code",
   "execution_count": 159,
   "id": "62cdc100-d40b-4c37-b739-503f53c55ac1",
   "metadata": {},
   "outputs": [],
   "source": [
    "def draw_zipf_law(dictionary):\n",
    "    \"\"\"\n",
    "    Draws the Zipf law.\n",
    "    \"\"\"\n",
    "    all_tokens = list(dictionary.keys())\n",
    "    counts_of_tokens = [dictionary[w] for w in all_tokens]\n",
    "    ranks = np.arange(1, len(counts_of_tokens) + 1)\n",
    "    sorted_counts_of_tokens = list(reversed(np.argsort(counts_of_tokens)))\n",
    "    frequencies = [counts_of_tokens[i] for i in sorted_counts_of_tokens]\n",
    "    \n",
    "    plt.figure(figsize=(5, 4))\n",
    "    plt.plot(ranks, frequencies)\n",
    "    plt.plot([1, frequencies[0]], [frequencies[0], 1], color='g')\n",
    "    plt.title(\"Zipf Graph\")\n",
    "    plt.xlabel(\"Frequency rank\")\n",
    "    plt.ylabel(\"Cf\")\n",
    "    plt.xscale('log')\n",
    "    plt.yscale('log')\n",
    "    \n",
    "    plt.grid(True)\n",
    "    plt.show()"
   ]
  },
  {
   "cell_type": "code",
   "execution_count": 186,
   "id": "90cb98dc-e5b5-4544-b9ef-6ea52637f935",
   "metadata": {},
   "outputs": [
    {
     "name": "stdout",
     "output_type": "stream",
     "text": [
      "0\n",
      "1000\n",
      "2000\n",
      "3000\n",
      "4000\n",
      "5000\n",
      "6000\n",
      "7000\n",
      "8000\n",
      "9000\n",
      "10000\n",
      "11000\n",
      "12000\n"
     ]
    },
    {
     "data": {
      "image/png": "[encoded data removed]",
      "text/plain": [
       "<Figure size 500x400 with 1 Axes>"
      ]
     },
     "metadata": {},
     "output_type": "display_data"
    }
   ],
   "source": [
    "pre_processed_without_stop = preprocess(docs, stop_words=False)\n",
    "draw_zipf_law(token_incidence(pre_processed_without_stop))"
   ]
  },
  {
   "cell_type": "code",
   "execution_count": 161,
   "id": "793cdbd3-e478-45e2-a4f3-ddd526a8622d",
   "metadata": {},
   "outputs": [
    {
     "data": {
      "image/png": "[encoded data removed]",
      "text/plain": [
       "<Figure size 500x400 with 1 Axes>"
      ]
     },
     "metadata": {},
     "output_type": "display_data"
    }
   ],
   "source": [
    "draw_zipf_law(token_incidence(pre_processed_docs))"
   ]
  },
  {
   "cell_type": "markdown",
   "id": "37992725-25ae-4298-8ccd-258a65a1dd8a",
   "metadata": {},
   "source": [
    "# Heap law"
   ]
  },
  {
   "cell_type": "markdown",
   "id": "d296d79a-3a19-4dd9-8535-33c448af545c",
   "metadata": {},
   "source": [
    "$$ M = K * T ^ b$$"
   ]
  },
  {
   "cell_type": "code",
   "execution_count": 200,
   "id": "03eaeea9-74a0-4bea-a686-52beaf2863f9",
   "metadata": {},
   "outputs": [],
   "source": [
    "def token_heaps(docs):\n",
    "    seen_docs = 0\n",
    "    seen_token_cnt = 0\n",
    "    vocab = set()\n",
    "    vocab_size = []\n",
    "    vocab_size_estimation = []\n",
    "    seen_token_cnt_list = []\n",
    "    for value in docs.values():\n",
    "        if (seen_docs == 2001):\n",
    "            break\n",
    "        for token in value['content']:\n",
    "            seen_token_cnt += 1\n",
    "            vocab.add(token)\n",
    "            vocab_size.append(len(vocab))\n",
    "        seen_docs += 1\n",
    "        if seen_docs in [500, 1000, 1500, 2000]:\n",
    "            vocab_size_estimation.append(len(vocab))\n",
    "            seen_token_cnt_list.append(seen_token_cnt)\n",
    "    \n",
    "    return vocab_size, vocab_size_estimation, seen_token_cnt_list\n",
    "\n",
    "def draw_heaps_plot(docs):\n",
    "    dictionary_size, dictionary_size_estimation, seen_token_cnt_list = token_heaps(docs)\n",
    "    X = seen_token_cnt_list\n",
    "    y = dictionary_size_estimation\n",
    "    plt.figure(figsize=(5, 4))\n",
    "    plt.xlabel('# of tokens')\n",
    "    plt.ylabel('# of vocab')\n",
    "    plt.plot(range(1, len(dictionary_size)+1), dictionary_size, label='actual')\n",
    "    plt.plot(seen_token_cnt_list, dictionary_size_estimation, 'ro', label='Sampled points')\n",
    "    k = 30\n",
    "    b = 0.5\n",
    "    plt.plot(range(1, len(dictionary_size)+1), k * np.power(list(range(1, len(dictionary_size)+1)), b), linestyle='--', color='g', label='expected')\n",
    "    plt.xscale('log')\n",
    "    plt.yscale('log')\n",
    "    \n",
    "    plt.legend()"
   ]
  },
  {
   "cell_type": "code",
   "execution_count": 201,
   "id": "3f0d9ea7-fc6a-4523-b046-25fb4a281a4e",
   "metadata": {},
   "outputs": [
    {
     "data": {
      "image/png": "[encoded data removed]",
      "text/plain": [
       "<Figure size 500x400 with 1 Axes>"
      ]
     },
     "metadata": {},
     "output_type": "display_data"
    }
   ],
   "source": [
    "draw_heaps_plot(pre_processed_docs)"
   ]
  },
  {
   "cell_type": "code",
   "execution_count": 202,
   "id": "836cc432-d75c-461f-a9e8-e7af6685f0e2",
   "metadata": {},
   "outputs": [
    {
     "data": {
      "image/png": "[encoded data removed]",
      "text/plain": [
       "<Figure size 500x400 with 1 Axes>"
      ]
     },
     "metadata": {},
     "output_type": "display_data"
    }
   ],
   "source": [
    "draw_heaps_plot(pre_processed_without_stop)"
   ]
  },
  {
   "cell_type": "markdown",
   "id": "e3177fd4-7e85-47c7-ba71-5bf8745714f1",
   "metadata": {},
   "source": [
    "# Phase 2"
   ]
  },
  {
   "cell_type": "markdown",
   "id": "6e61f0e2-bfd8-4504-89ba-e213162be92a",
   "metadata": {},
   "source": [
    "## tf-idf"
   ]
  },
  {
   "cell_type": "code",
   "execution_count": 40,
   "id": "b52bb837-cb17-4fd4-a5fd-45995c2c63e1",
   "metadata": {},
   "outputs": [],
   "source": [
    "def get_tf_idf(tf, idf):\n",
    "    \"\"\"\n",
    "    tf-idf of a term.\n",
    "    \"\"\"\n",
    "    return (1 + (np.log10(tf))) * np.log10(idf)\n",
    "\n",
    "\n",
    "def ranked_query(query, index, k, N, use_champion=False):\n",
    "    \"\"\"\n",
    "    Returns the top k documents that are most similar to the query.\n",
    "    \"\"\"\n",
    "    words = preprocess_text(query)\n",
    "    query_index = dict(collections.Counter(words))  # inverted index for query\n",
    "\n",
    "    scores = [0] * N\n",
    "\n",
    "    for word in query_index:\n",
    "        if word in index:\n",
    "            docs = index[word]['docs']\n",
    "            if use_champion:\n",
    "                champions_list = index[word]['champions']\n",
    "                docs = {doc_id: value for doc_id, value in docs.items() if doc_id in champions_list}\n",
    "            idf = N / len(docs)\n",
    "            wtq = get_tf_idf(query_index[word], idf) \n",
    "            for d in docs:\n",
    "                wtd = get_tf_idf(docs[d]['count_of_word'], idf)\n",
    "                scores[int(d)] += wtq * wtd \n",
    "    for d in range(len(scores)):\n",
    "        scores[d] /= len(pre_processed_docs[str(d)]['content'])\n",
    "                \n",
    "    indices = np.argsort(scores)[::-1]\n",
    "    return indices[:k]"
   ]
  },
  {
   "cell_type": "code",
   "execution_count": 41,
   "id": "8c88d9cf-a0af-47b0-8c71-b844a9ae2fb8",
   "metadata": {},
   "outputs": [],
   "source": [
    "def query_print(query, content=False, max_cnt=5, phase=1, use_champion=False):\n",
    "    if phase == 1:\n",
    "        results = process_query(query)[:max_cnt]\n",
    "    else:\n",
    "        results = ranked_query(query, index, max_cnt, len(docs), use_champion=use_champion)\n",
    "    if len(results) == 0:\n",
    "        print(\"نتیجه ای یافت نشد\")\n",
    "    for rank, doc in enumerate(results):\n",
    "        print(50*'=')\n",
    "        print(f'Rank: {rank + 1}, docID: {doc}')\n",
    "        print(f'Title: {docs[f\"{doc}\"][\"title\"]}')\n",
    "        print(f'URL: {docs[f\"{doc}\"][\"url\"]}')\n",
    "        if content:\n",
    "            print(f'{docs[f\"{doc}\"][\"content\"]}')"
   ]
  },
  {
   "cell_type": "code",
   "execution_count": 42,
   "id": "8f038e4c-2281-4f33-bd44-70c675e2e50d",
   "metadata": {},
   "outputs": [
    {
     "name": "stdout",
     "output_type": "stream",
     "text": [
      "==================================================\n",
      "Rank: 1, docID: 1523\n",
      "Title: استیلی سرپرست تیم ملی فوتبال شد\n",
      "URL: https://www.farsnews.ir/news/14001204000668/استیلی-سرپرست-تیم-ملی-فوتبال-شد\n",
      "==================================================\n",
      "Rank: 2, docID: 1586\n",
      "Title: ذوبی ها در آستانه دربی اصفهان شارژ شدند\n",
      "URL: https://www.farsnews.ir/news/14001203000742/ذوبی-ها-در-آستانه-دربی-اصفهان-شارژ-شدند\n",
      "==================================================\n",
      "Rank: 3, docID: 4840\n",
      "Title: پاسخ عضو هیأت رئیسه به اختلاف سراجی با فدراسیون فوتبال\n",
      "URL: https://www.farsnews.ir/news/14001022000548/پاسخ-عضو-هیأت-رئیسه-به-اختلاف-سراجی-با-فدراسیون-فوتبال\n",
      "==================================================\n",
      "Rank: 4, docID: 1973\n",
      "Title: دبیر کل در فدراسیون فوتبال ماندنی شد\n",
      "URL: https://www.farsnews.ir/news/14001128000781/دبیر-کل-در-فدراسیون-فوتبال-ماندنی-شد\n",
      "==================================================\n",
      "Rank: 5, docID: 137\n",
      "Title: محرومیت 2 عضو فوتبال و فوتسال بانوان توسط کمیته اخلاق\n",
      "URL: https://www.farsnews.ir/news/14001222000459/محرومیت-2-عضو-فوتبال-و-فوتسال-بانوان-توسط-کمیته-اخلاق\n"
     ]
    }
   ],
   "source": [
    "query_print('فوتبال', phase=2, use_champion=True)"
   ]
  },
  {
   "cell_type": "code",
   "execution_count": 195,
   "id": "29d92dff-578f-4ddd-b173-52182297268c",
   "metadata": {},
   "outputs": [
    {
     "name": "stdout",
     "output_type": "stream",
     "text": [
      "==================================================\n",
      "Rank: 1, docID: 3583\n",
      "Title: لیگ برتر والیبال| شگفتی‌سازی مسی‌ها و صعود خودروسازان/ صدر همچنان زرد است +جدول\n",
      "URL: https://www.farsnews.ir/news/14001106000848/لیگ-برتر-والیبال|-شگفتی‌سازی-مسی‌ها-و-صعود-خودروسازان-صدر-همچنان-زرد\n",
      "==================================================\n",
      "Rank: 2, docID: 5212\n",
      "Title: لیگ برتر والیبال| نبرد نزدیک مدعیان در مثلث قدرت/ طلسم سپاهان شکسته می‌شود؟\n",
      "URL: https://www.farsnews.ir/news/14001018000390/لیگ-برتر-والیبال|-نبرد-نزدیک-مدعیان-در-مثلث-قدرت-طلسم-سپاهان-شکسته\n",
      "==================================================\n",
      "Rank: 3, docID: 5061\n",
      "Title: لیگ برتر والیبال| شهداب روی نوار برد/درد سر عظیم برای سپاهان در روز شگفتی ها + جدول\n",
      "URL: https://www.farsnews.ir/news/14001019000944/لیگ-برتر-والیبال|-شهداب-روی-نوار-برد-درد-سر-عظیم-برای-سپاهان-در-روز\n",
      "==================================================\n",
      "Rank: 4, docID: 5683\n",
      "Title: لیگ برتر والیبال| بازگشت هیجان به دنیای توپ و تور/ نبرد سخت بالانشینان و دربی خودروسازان\n",
      "URL: https://www.farsnews.ir/news/14001011000265/لیگ-برتر-والیبال|-بازگشت-هیجان-به-دنیای-توپ-و-تور-نبرد-سخت-بالانشینان\n",
      "==================================================\n",
      "Rank: 5, docID: 3023\n",
      "Title: لیگ برتر والیبال| صعود 4 تیم قطعی شد/ امید 7 تیم به سه سهمیه باقی مانده پلی‌آف\n",
      "URL: https://www.farsnews.ir/news/14001113000867/لیگ-برتر-والیبال|-صعود-4-تیم-قطعی-شد-امید-تیم-به-سه-سهمیه-باقی-مانده\n"
     ]
    }
   ],
   "source": [
    "query_print('جدول رده‌بندی لیگ', phase=2)"
   ]
  },
  {
   "cell_type": "code",
   "execution_count": 196,
   "id": "ed535e10-a8e8-4d65-8908-d1898c4226f2",
   "metadata": {},
   "outputs": [
    {
     "name": "stdout",
     "output_type": "stream",
     "text": [
      "==================================================\n",
      "Rank: 1, docID: 11229\n",
      "Title: وام کشاورزان استمهال شود\n",
      "URL: https://www.farsnews.ir/news/14000819000217/وام-کشاورزان-استمهال-شود\n",
      "==================================================\n",
      "Rank: 2, docID: 11475\n",
      "Title: رئیسی: هیچ بانکی حق ندارد کارخانه‌ای را تعطیل کند\n",
      "URL: https://www.farsnews.ir/news/14000813000661/رئیسی-هیچ-بانکی-حق-ندارد-کارخانه‌ای-را-تعطیل-کند\n",
      "==================================================\n",
      "Rank: 3, docID: 8998\n",
      "Title: گزارش سفر نمایندگان ویژه رئیس‌جمهور به مناطق سیل‌زده/بررسی خسارات و گفت‌وگو با مردم\n",
      "URL: https://www.farsnews.ir/news/14001016000614/گزارش-سفر-نمایندگان-ویژه-رئیس‌جمهور-به-مناطق-سیل‌زده-بررسی-خسارات-و\n",
      "==================================================\n",
      "Rank: 4, docID: 8413\n",
      "Title: ۹۰ درصد مناطق سیل‌زده از شرایط اضطراری خارج شدند\n",
      "URL: https://www.farsnews.ir/news/14001105000279/۹۰-درصد-مناطق-سیل‌زده-از-شرایط-اضطراری-خارج-شدند\n",
      "==================================================\n",
      "Rank: 5, docID: 7587\n",
      "Title: اعلام نظر شورای نگهبان درباره 16 طرح و لایحه\n",
      "URL: https://www.farsnews.ir/news/14001130001158/اعلام-نظر-شورای-نگهبان-درباره-6-طرح-و-لایحه\n"
     ]
    }
   ],
   "source": [
    "query_print('استمهال', phase=2)"
   ]
  },
  {
   "cell_type": "code",
   "execution_count": 197,
   "id": "ac046d4e-7060-4195-8f65-a32dd68f9533",
   "metadata": {},
   "outputs": [
    {
     "name": "stdout",
     "output_type": "stream",
     "text": [
      "==================================================\n",
      "Rank: 1, docID: 8071\n",
      "Title: طرح «تسهیل مجوزهای کسب‌‌وکار» ۴ماه است دست‌به‌دست می‌شود\n",
      "URL: https://www.farsnews.ir/news/14001113000326/طرح-تسهیل-مجوزهای-کسب‌‌وکار-۴ماه-است-دست‌به‌دست-می‌شود\n",
      "==================================================\n",
      "Rank: 2, docID: 7506\n",
      "Title: کلیات طرح حمایت از کاربران فضای مجازی در کمیسیون ویژه تصویب شد\n",
      "URL: https://www.farsnews.ir/news/14001203000680/کلیات-طرح-حمایت-از-کاربران-فضای-مجازی-در-کمیسیون-ویژه-تصویب-شد\n",
      "==================================================\n",
      "Rank: 3, docID: 9164\n",
      "Title: جزئیات طرح جدید مجلس برای سامان‌بخشی به بورس+ متن طرح\n",
      "URL: https://www.farsnews.ir/news/14001011000203/جزئیات-طرح-جدید-مجلس-برای-سامان‌بخشی-به-بورس-متن-طرح\n",
      "==================================================\n",
      "Rank: 4, docID: 7140\n",
      "Title: برخورد با دستگاه‌هایی که به درگاه مجوزهای کسب و کار متصل نشده‌‌اند صورت گیرد\n",
      "URL: https://www.farsnews.ir/news/14001216000609/برخورد-با-دستگاه‌هایی-که-به-درگاه-مجوزهای-کسب-و-کار-متصل-نشده‌‌اند\n",
      "==================================================\n",
      "Rank: 5, docID: 10545\n",
      "Title: ارجاع طرح صدور پروانه وکالت برای قضات بازنشسته به کمیسیون قضایی مجلس\n",
      "URL: https://www.farsnews.ir/news/14000906000679/ارجاع-طرح-صدور-پروانه-وکالت-برای-قضات-بازنشسته-به-کمیسیون-قضایی-مجلس\n"
     ]
    }
   ],
   "source": [
    "query_print('طرح تسهیل مجوز', phase=2)"
   ]
  },
  {
   "cell_type": "code",
   "execution_count": 198,
   "id": "98e9e619-235c-47a6-bff8-2209bb4cd05d",
   "metadata": {},
   "outputs": [
    {
     "name": "stdout",
     "output_type": "stream",
     "text": [
      "==================================================\n",
      "Rank: 1, docID: 7587\n",
      "Title: اعلام نظر شورای نگهبان درباره 16 طرح و لایحه\n",
      "URL: https://www.farsnews.ir/news/14001130001158/اعلام-نظر-شورای-نگهبان-درباره-6-طرح-و-لایحه\n",
      "==================================================\n",
      "Rank: 2, docID: 8281\n",
      "Title: در نشست نمایندگان استان‌های خوزستان، چهارمحال و لرستان با رئیسی چه گذشت؟\n",
      "URL: https://www.farsnews.ir/news/14001108000291/در-نشست-نمایندگان-استان‌های-خوزستان-چهارمحال-و-لرستان-با-رئیسی-چه-گذشت\n",
      "==================================================\n",
      "Rank: 3, docID: 8413\n",
      "Title: ۹۰ درصد مناطق سیل‌زده از شرایط اضطراری خارج شدند\n",
      "URL: https://www.farsnews.ir/news/14001105000279/۹۰-درصد-مناطق-سیل‌زده-از-شرایط-اضطراری-خارج-شدند\n",
      "==================================================\n",
      "Rank: 4, docID: 8920\n",
      "Title: اختصاصی| شورای نگهبان برای بررسی لایحه رتبه‌بندی معلمان از مجلس مهلت خواست/ طرح تسهیل مجوزهای کسب و کار رد شد\n",
      "URL: https://www.farsnews.ir/news/14001019000650/اختصاصی|-شورای-نگهبان-برای-بررسی-لایحه-رتبه‌بندی-معلمان-از-مجلس-مهلت\n",
      "==================================================\n",
      "Rank: 5, docID: 8998\n",
      "Title: گزارش سفر نمایندگان ویژه رئیس‌جمهور به مناطق سیل‌زده/بررسی خسارات و گفت‌وگو با مردم\n",
      "URL: https://www.farsnews.ir/news/14001016000614/گزارش-سفر-نمایندگان-ویژه-رئیس‌جمهور-به-مناطق-سیل‌زده-بررسی-خسارات-و\n"
     ]
    }
   ],
   "source": [
    "query_print('استمهال', phase=1)"
   ]
  },
  {
   "cell_type": "code",
   "execution_count": 199,
   "id": "7721c336-6e61-49d1-92f5-313814c0a1ab",
   "metadata": {},
   "outputs": [
    {
     "name": "stdout",
     "output_type": "stream",
     "text": [
      "==================================================\n",
      "Rank: 1, docID: 6994\n",
      "Title: گزارش سفر رئیس‌جمهور به مازندران| رئیسی: برای حمایت از دهک‌های پایین برنامه‌ ویژه‌ای داریم\n",
      "URL: https://www.farsnews.ir/news/14001220000749/گزارش-سفر-رئیس‌جمهور-به-مازندران|-رئیسی-برای-حمایت-از-دهک‌های-پایین\n",
      "==================================================\n",
      "Rank: 2, docID: 7109\n",
      "Title: ۷۳ درصد ارز صادراتی در این 6 ماه به کشور بازگشته است\n",
      "URL: https://www.farsnews.ir/news/14001217000267/۷۳-درصد-ارز-صادراتی-در-این-6-ماه-به-کشور-بازگشته-است\n",
      "==================================================\n",
      "Rank: 3, docID: 7140\n",
      "Title: برخورد با دستگاه‌هایی که به درگاه مجوزهای کسب و کار متصل نشده‌‌اند صورت گیرد\n",
      "URL: https://www.farsnews.ir/news/14001216000609/برخورد-با-دستگاه‌هایی-که-به-درگاه-مجوزهای-کسب-و-کار-متصل-نشده‌‌اند\n",
      "==================================================\n",
      "Rank: 4, docID: 7284\n",
      "Title: گزارش مصوبات کمیسیون تلفیق درباره موارد ارجاعی لایحه بودجه ۱۴۰۱\n",
      "URL: https://www.farsnews.ir/news/14001212000098/گزارش-مصوبات-کمیسیون-تلفیق-درباره-موارد-ارجاعی-لایحه-بودجه-۱۴۰۱\n",
      "==================================================\n",
      "Rank: 5, docID: 7403\n",
      "Title: نظرات شورای نگهبان درباره مصوبات مجلس شورای اسلامی\n",
      "URL: https://www.farsnews.ir/news/14001207000436/نظرات-شورای-نگهبان-درباره-مصوبات-مجلس-شورای-اسلامی\n"
     ]
    }
   ],
   "source": [
    "query_print('طرح تسهیل مجوز', phase=1)"
   ]
  },
  {
   "cell_type": "code",
   "execution_count": 32,
   "id": "560b975c-3c68-46ea-bf54-b7d7c12cc29a",
   "metadata": {},
   "outputs": [
    {
     "name": "stdout",
     "output_type": "stream",
     "text": [
      "==================================================\n",
      "Rank: 1, docID: 9392\n",
      "Title: نماینده مجلس: وزیر کار از پاسخگویی درباره اشتغال جوانان شانه خالی نکند\n",
      "URL: https://www.farsnews.ir/news/14001007000051/نماینده-مجلس-وزیر-کار-از-پاسخگویی-درباره-اشتغال-جوانان-شانه-خالی-نکند\n",
      "==================================================\n",
      "Rank: 2, docID: 10412\n",
      "Title: امروز در مجلس چه گذشت/ بررسی کارنامه دولت قبل در اجرای طرح‌های اشتغال‌زایی\n",
      "URL: https://www.farsnews.ir/news/14000909000584/امروز-در-مجلس-چه-گذشت-بررسی-کارنامه-دولت-قبل-در-اجرای-طرح‌های\n",
      "==================================================\n",
      "Rank: 3, docID: 10442\n",
      "Title: 27 هزار میلیارد تومان منابع قرض‌الحسنه نتوانست بیکاری را رفع کند\n",
      "URL: https://www.farsnews.ir/news/14000909000200/2-هزار-میلیارد-تومان-منابع-قرض‌الحسنه-نتوانست-بیکاری-را-رفع-کند\n",
      "==================================================\n",
      "Rank: 4, docID: 11727\n",
      "Title: حسینی‌پور: امنیت روحی و روانی شهر با وجود هزاران جوان تحصیل کرده بیکار تامین نمی‌شود\n",
      "URL: https://www.farsnews.ir/news/14000809000322/حسینی‌پور-امنیت-روحی-و-روانی-شهر-با-وجود-هزاران-جوان-تحصیل-کرده-بیکار\n",
      "==================================================\n",
      "Rank: 5, docID: 7655\n",
      "Title: ابلاغ سند ملی مهارت‌آموزی کارکنان وظیفه به استانداران\n",
      "URL: https://www.farsnews.ir/news/14001127000923/ابلاغ-سند-ملی-مهارت‌آموزی-کارکنان-وظیفه-به-استانداران\n"
     ]
    }
   ],
   "source": [
    "query_print('بیکاری جوانان لرستان', phase=2)"
   ]
  },
  {
   "cell_type": "code",
   "execution_count": 33,
   "id": "67d48fe9-1b58-4185-9786-e4ec802bb170",
   "metadata": {},
   "outputs": [
    {
     "name": "stdout",
     "output_type": "stream",
     "text": [
      "==================================================\n",
      "Rank: 1, docID: 11864\n",
      "Title: اهرم‌سازی از افغانستان در برجام/ نقطه عزیمت آمریکا در مذاکرات جامع با ایران چیست؟\n",
      "URL: https://www.farsnews.ir/news/14000803000676/اهرم‌سازی-از-افغانستان-در-برجام-نقطه-عزیمت-آمریکا-در-مذاکرات-جامع-با\n",
      "==================================================\n",
      "Rank: 2, docID: 9882\n",
      "Title: چرا غرب مجبور به تمکین از خواسته‌ تهران است؟/ توان هسته‌ای؛ تنها یکی از ظرفیت‌های قدرت‌بخش ایران\n",
      "URL: https://www.farsnews.ir/news/14000919000089/چرا-غرب-مجبور-به-تمکین-از-خواسته‌-تهران-است-توان-هسته‌ای-تنها-یکی-از\n",
      "==================================================\n",
      "Rank: 3, docID: 9742\n",
      "Title: مرکز پژوهش‌های مجلس: مذاکرات وین به توافقی زودهنگام منجر نمی‌شود\n",
      "URL: https://www.farsnews.ir/news/14000924000773/مرکز-پژوهش‌های-مجلس-مذاکرات-وین-به-توافقی-زودهنگام-منجر-نمی‌شود\n",
      "==================================================\n",
      "Rank: 4, docID: 7795\n",
      "Title: انقلاب اسلامی؛ جهش علمی، نخبه‌پروری، تمدن اسلامی| هرجا مثل خودروسازی پول بر تعهد غلبه کرد عقب ماندیم\n",
      "URL: https://www.farsnews.ir/news/14001116000704/انقلاب-اسلامی-جهش-علمی-نخبه‌پروری-تمدن-اسلامی|-هرجا-مثل-خودروسازی-پول\n",
      "==================================================\n",
      "Rank: 5, docID: 7230\n",
      "Title: رئیس دانشکده هسته‌ای دانشگاه شهید بهشتی: انرژی هسته‌ای نیاز قطعی امروز و فردای ایران است\n",
      "URL: https://www.farsnews.ir/news/14001214000432/رئیس-دانشکده-هسته‌ای-دانشگاه-شهید-بهشتی-انرژی-هسته‌ای-نیاز-قطعی-امروز\n"
     ]
    }
   ],
   "source": [
    "query_print('انرژی هسته ای سانتریفیوژ', phase=2)"
   ]
  },
  {
   "cell_type": "code",
   "execution_count": null,
   "id": "d7d3ea5b-b006-46a0-a81c-1997107bc621",
   "metadata": {},
   "outputs": [],
   "source": []
  }
 ],
 "metadata": {
  "kernelspec": {
   "display_name": "Python 3 (ipykernel)",
   "language": "python",
   "name": "python3"
  },
  "language_info": {
   "codemirror_mode": {
    "name": "ipython",
    "version": 3
   },
   "file_extension": ".py",
   "mimetype": "text/x-python",
   "name": "python",
   "nbconvert_exporter": "python",
   "pygments_lexer": "ipython3",
   "version": "3.10.6"
  }
 },
 "nbformat": 4,
 "nbformat_minor": 5
}
